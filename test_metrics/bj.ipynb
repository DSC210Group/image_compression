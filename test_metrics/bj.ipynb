{
 "cells": [
  {
   "cell_type": "code",
   "execution_count": 1,
   "metadata": {},
   "outputs": [
    {
     "name": "stdout",
     "output_type": "stream",
     "text": [
      "BD-Rate: -4.4252 %\n",
      "BD-PSNR: 0.1194 dB\n"
     ]
    }
   ],
   "source": [
    "# Import the package\n",
    "import bjontegaard as bd\n",
    "\n",
    "# Test data\n",
    "rate_anchor = [9487.76, 4593.60, 2486.44, 1358.24]\n",
    "psnr_anchor = [ 40.037,  38.615,  36.845,  34.851]\n",
    "rate_test = [9787.80, 4469.00, 2451.52, 1356.24]\n",
    "psnr_test = [ 40.121,  38.651,  36.970,  34.987]\n",
    "\n",
    "# Use the package\n",
    "bd_rate = bd.bd_rate(rate_anchor, psnr_anchor, rate_test, psnr_test, method='akima')\n",
    "bd_psnr = bd.bd_psnr(rate_anchor, psnr_anchor, rate_test, psnr_test, method='akima')\n",
    "\n",
    "print(f\"BD-Rate: {bd_rate:.4f} %\")\n",
    "print(f\"BD-PSNR: {bd_psnr:.4f} dB\")"
   ]
  },
  {
   "cell_type": "code",
   "execution_count": null,
   "metadata": {},
   "outputs": [],
   "source": [
    "import cv2\n",
    "import numpy as np\n",
    "import bjontegaard as bd\n",
    "from skimage.metrics import structural_similarity as ssim\n",
    "\n",
    "# Function to calculate PSNR\n",
    "def calculate_psnr(img1, img2):\n",
    "    mse = np.mean((img1 - img2) ** 2)\n",
    "    if mse == 0:\n",
    "        return float('inf')\n",
    "    max_pixel = 255.0\n",
    "    psnr = 20 * np.log10(max_pixel / np.sqrt(mse))\n",
    "    return psnr\n",
    "\n",
    "# Function to calculate MS-SSIM\n",
    "def calculate_msssim(img1, img2):\n",
    "    return ssim(img1, img2, multichannel=True, gaussian_weights=True, use_sample_covariance=False)\n",
    "\n",
    "# Assuming you have lists of original and compressed image paths\n",
    "original_images = ['path/to/original1.png', 'path/to/original2.png', ...]\n",
    "compressed_images_method1 = ['path/to/compressed1_method1.png', 'path/to/compressed2_method1.png', ...]\n",
    "compressed_images_method2 = ['path/to/compressed1_method2.png', 'path/to/compressed2_method2.png', ...]\n",
    "\n",
    "# Lists to store PSNR and Bit Rates for both methods\n",
    "psnr_method1 = []\n",
    "psnr_method2 = []\n",
    "bit_rates_method1 = []\n",
    "bit_rates_method2 = []\n",
    "\n",
    "for orig_path, comp_path1, comp_path2 in zip(original_images, compressed_images_method1, compressed_images_method2):\n",
    "    orig_img = cv2.imread(orig_path)\n",
    "    comp_img1 = cv2.imread(comp_path1)\n",
    "    comp_img2 = cv2.imread(comp_path2)\n",
    "\n",
    "    # Calculate PSNR\n",
    "    psnr_method1.append(calculate_psnr(orig_img, comp_img1))\n",
    "    psnr_method2.append(calculate_psnr(orig_img, comp_img2))\n",
    "\n",
    "    # Calculate Bit Rates (assuming you have a function to calculate bit rates)\n",
    "    bit_rates_method1.append(calculate_bit_rate(comp_path1))\n",
    "    bit_rates_method2.append(calculate_bit_rate(comp_path2))\n",
    "\n",
    "# Calculate the average PSNR and Bit Rate for each method\n",
    "avg_psnr_method1 = sum(psnr_method1) / len(psnr_method1)\n",
    "avg_psnr_method2 = sum(psnr_method2) / len(psnr_method2)\n",
    "avg_bit_rate_method1 = sum(bit_rates_method1) / len(bit_rates_method1)\n",
    "avg_bit_rate_method2 = sum(bit_rates_method2) / len(bit_rates_method2)\n",
    "\n",
    "# Bjontegaard calculation\n",
    "bd_rate = bd.bd_rate(bit_rates_method1, psnr_method1, bit_rates_method2, psnr_method2, method='akima')\n",
    "bd_psnr = bd.bd_psnr(bit_rates_method1, psnr_method1, bit_rates_method2, psnr_method2, method='akima')\n",
    "\n",
    "print(f\"Average PSNR for Method 1: {avg_psnr_method1:.2f} dB\")\n",
    "print(f\"Average PSNR for Method 2: {avg_psnr_method2:.2f} dB\")\n",
    "print(f\"Average Bit Rate for Method 1: {avg_bit_rate_method1:.2f} bits/pixel\")\n",
    "print(f\"Average Bit Rate for Method 2: {avg_bit_rate_method2:.2f} bits/pixel\")\n",
    "print(f\"BD-Rate: {bd_rate:.4f} %\")\n",
    "print(f\"BD-PSNR: {bd_psnr:.4f} dB\")"
   ]
  }
 ],
 "metadata": {
  "kernelspec": {
   "display_name": "base",
   "language": "python",
   "name": "python3"
  },
  "language_info": {
   "codemirror_mode": {
    "name": "ipython",
    "version": 3
   },
   "file_extension": ".py",
   "mimetype": "text/x-python",
   "name": "python",
   "nbconvert_exporter": "python",
   "pygments_lexer": "ipython3",
   "version": "3.11.4"
  }
 },
 "nbformat": 4,
 "nbformat_minor": 2
}
